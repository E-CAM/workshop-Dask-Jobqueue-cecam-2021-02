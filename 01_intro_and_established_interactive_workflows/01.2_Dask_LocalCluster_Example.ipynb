{
 "cells": [
  {
   "cell_type": "markdown",
   "metadata": {},
   "source": [
    "# Monte-Carlo Estimate of $\\pi$\n",
    "\n",
    "We want to estimate the number $\\pi$ using a [Monte-Carlo method](https://en.wikipedia.org/wiki/Pi#Monte_Carlo_methods) exploiting that the area of a quarter circle of unit radius is $\\pi/4$ and that hence the probability of any randomly chosen point in a unit square to lie in a unit circle centerd at a corner of the unit square is $\\pi/4$ as well.  So for N randomly chosen pairs $(x, y)$ with $x\\in[0, 1)$ and $y\\in[0, 1)$, we count the number $N_{circ}$ of pairs that also satisfy $(x^2 + y^2) < 1$ and estimage $\\pi \\approx 4 \\cdot N_{circ} / N$.\n",
    "\n",
    "[<img src=\"https://upload.wikimedia.org/wikipedia/commons/8/84/Pi_30K.gif\" \n",
    "     width=\"50%\" \n",
    "     align=top\n",
    "     alt=\"PI monte-carlo estimate\">](https://en.wikipedia.org/wiki/Pi#Monte_Carlo_methods)"
   ]
  },
  {
   "cell_type": "markdown",
   "metadata": {},
   "source": [
    "## The Monte Carlo estimate with Numpy"
   ]
  },
  {
   "cell_type": "code",
   "execution_count": 1,
   "metadata": {},
   "outputs": [],
   "source": [
    "import numpy as np"
   ]
  },
  {
   "cell_type": "code",
   "execution_count": 2,
   "metadata": {},
   "outputs": [
    {
     "name": "stdout",
     "output_type": "stream",
     "text": [
      "from 0.16 GB of data:\n",
      "pi estimate: 3.1417056\n",
      "pi error: 0.0001129464102067601\n"
     ]
    }
   ],
   "source": [
    "N_xy = 10_000_000\n",
    "\n",
    "xy = np.random.uniform(\n",
    "    0, 1,\n",
    "    size=(N_xy, 2)\n",
    ")\n",
    "\n",
    "in_circle = ((xy ** 2).sum(axis=-1) < 1)\n",
    "\n",
    "pi = 4 * in_circle.mean()\n",
    "\n",
    "print(f\"from {xy.nbytes / 1e9} GB of data:\")\n",
    "print(f\"pi estimate: {pi}\")\n",
    "print(f\"pi error: {abs(pi - np.pi)}\")"
   ]
  },
  {
   "cell_type": "markdown",
   "metadata": {},
   "source": [
    "We won't be able to scale this to Gigabytes or Terabytes."
   ]
  },
  {
   "cell_type": "markdown",
   "metadata": {},
   "source": [
    "## Use Dask Array\n",
    "\n",
    "Here, we'll see an application of the following Dask basics:\n",
    "\n",
    "- `LocalCluster`, `Client`, and `dask.array`\n",
    "- Scaling (local) clusters\n",
    "- Adaptive (local) clusters"
   ]
  },
  {
   "cell_type": "markdown",
   "metadata": {},
   "source": [
    "## Set up a local cluster"
   ]
  },
  {
   "cell_type": "code",
   "execution_count": 3,
   "metadata": {},
   "outputs": [
    {
     "data": {
      "text/html": [
       "<table style=\"border: 2px solid white;\">\n",
       "<tr>\n",
       "<td style=\"vertical-align: top; border: 0px solid white\">\n",
       "<h3 style=\"text-align: left;\">Client</h3>\n",
       "<ul style=\"text-align: left; list-style: none; margin: 0; padding: 0;\">\n",
       "  <li><b>Scheduler: </b>tcp://192.168.21.81:39936</li>\n",
       "  <li><b>Dashboard: </b><a href='http://192.168.21.81:8787/status' target='_blank'>http://192.168.21.81:8787/status</a>\n",
       "</ul>\n",
       "</td>\n",
       "<td style=\"vertical-align: top; border: 0px solid white\">\n",
       "<h3 style=\"text-align: left;\">Cluster</h3>\n",
       "<ul style=\"text-align: left; list-style:none; margin: 0; padding: 0;\">\n",
       "  <li><b>Workers: </b>2</li>\n",
       "  <li><b>Cores: </b>8</li>\n",
       "  <li><b>Memory: </b>8.00 GB</li>\n",
       "</ul>\n",
       "</td>\n",
       "</tr>\n",
       "</table>"
      ],
      "text/plain": [
       "<Client: 'tcp://192.168.21.81:39936' processes=2 threads=8, memory=8.00 GB>"
      ]
     },
     "execution_count": 3,
     "metadata": {},
     "output_type": "execute_result"
    }
   ],
   "source": [
    "from dask.distributed import LocalCluster, Client\n",
    "\n",
    "# Create Dask cluster\n",
    "cluster = LocalCluster(\n",
    "    n_workers=2, threads_per_worker=4, memory_limit=4e9,\n",
    "    ip=\"0.0.0.0\"\n",
    ")\n",
    "\n",
    "# attach client (living in this notebook) to cluster\n",
    "client = Client(cluster)\n",
    "client"
   ]
  },
  {
   "cell_type": "markdown",
   "metadata": {},
   "source": [
    "## The Monte Carlo Method"
   ]
  },
  {
   "cell_type": "code",
   "execution_count": 4,
   "metadata": {},
   "outputs": [],
   "source": [
    "import dask.array as darr\n",
    "\n",
    "def calc_pi_mc(size_in_bytes=100_000_000, number_of_chunks=1_000):\n",
    "    \"\"\"Calculate PI using a Monte Carlo estimate.\"\"\"\n",
    "    \n",
    "    array_size = (int(size_in_bytes / 8 / 2), 2)\n",
    "    chunk_size = (int(array_size[0] / number_of_chunks), 2)\n",
    "    \n",
    "    xy = darr.random.uniform(\n",
    "        0, 1,\n",
    "        size=array_size,\n",
    "        chunks=chunk_size\n",
    "    )\n",
    "    \n",
    "    in_circle = ((xy ** 2).sum(axis=-1) < 1)\n",
    "\n",
    "    pi = 4 * in_circle.mean()\n",
    "    pi = pi.compute()\n",
    "\n",
    "    print(f\"\\nfrom {xy.nbytes / 1e9} GB of data:\")\n",
    "    print(f\"\\tpi estimate: {pi}\")\n",
    "    print(f\"\\tpi error: {abs(pi - np.pi)}\")\n",
    "    \n",
    "    return pi"
   ]
  },
  {
   "cell_type": "markdown",
   "metadata": {},
   "source": [
    "## The actual calculations\n",
    "\n",
    "We loop over different volumes of double-precision random numbers and estimate $\\pi$ as described above."
   ]
  },
  {
   "cell_type": "code",
   "execution_count": 5,
   "metadata": {},
   "outputs": [
    {
     "name": "stdout",
     "output_type": "stream",
     "text": [
      "\n",
      "from 0.1 GB of data:\n",
      "\tpi estimate: 3.14240576\n",
      "\tpi error: 0.0008131064102068208\n",
      "CPU times: user 1.15 s, sys: 81 ms, total: 1.23 s\n",
      "Wall time: 1.72 s\n",
      "\n",
      "from 1.0 GB of data:\n",
      "\tpi estimate: 3.1415376\n",
      "\tpi error: 5.5053589793185864e-05\n",
      "CPU times: user 1.32 s, sys: 71.8 ms, total: 1.39 s\n",
      "Wall time: 1.89 s\n",
      "\n",
      "from 10.0 GB of data:\n",
      "\tpi estimate: 3.1415026176\n",
      "\tpi error: 9.003598979306915e-05\n",
      "CPU times: user 2 s, sys: 165 ms, total: 2.17 s\n",
      "Wall time: 5.15 s\n",
      "\n",
      "from 100.0 GB of data:\n",
      "\tpi estimate: 3.1415837344\n",
      "\tpi error: 8.919189792955251e-06\n",
      "CPU times: user 3.43 s, sys: 274 ms, total: 3.7 s\n",
      "Wall time: 35.8 s\n"
     ]
    }
   ],
   "source": [
    "%time pi = calc_pi_mc(100_000_000);  # 100 MB\n",
    "\n",
    "%time pi = calc_pi_mc(1_000_000_000);  # 1 GB\n",
    "\n",
    "%time pi = calc_pi_mc(10_000_000_000);  # 10 GB\n",
    "\n",
    "%time pi = calc_pi_mc(100_000_000_000, number_of_chunks=500);  # 100 GB"
   ]
  },
  {
   "cell_type": "markdown",
   "metadata": {},
   "source": [
    "## Complete listing of software used here"
   ]
  },
  {
   "cell_type": "code",
   "execution_count": 6,
   "metadata": {},
   "outputs": [
    {
     "name": "stdout",
     "output_type": "stream",
     "text": [
      "Package          Version            \n",
      "---------------- -------------------\n",
      "asciitree        0.3.3              \n",
      "backcall         0.1.0              \n",
      "bokeh            1.4.0              \n",
      "certifi          2019.11.28         \n",
      "Click            7.0                \n",
      "cloudpickle      1.3.0              \n",
      "cycler           0.10.0             \n",
      "cytoolz          0.10.1             \n",
      "dask             2.11.0             \n",
      "dask-jobqueue    0.7.0              \n",
      "decorator        4.4.1              \n",
      "distributed      2.11.0             \n",
      "entrypoints      0.3                \n",
      "fasteners        0.14.1             \n",
      "fsspec           0.6.2              \n",
      "HeapDict         1.0.1              \n",
      "ipykernel        5.1.4              \n",
      "ipython          7.12.0             \n",
      "ipython-genutils 0.2.0              \n",
      "jedi             0.16.0             \n",
      "Jinja2           2.11.1             \n",
      "jupyter-client   6.0.0              \n",
      "jupyter-core     4.6.3              \n",
      "kiwisolver       1.1.0              \n",
      "locket           0.2.0              \n",
      "MarkupSafe       1.1.1              \n",
      "matplotlib       3.1.3              \n",
      "monotonic        1.5                \n",
      "msgpack          1.0.0              \n",
      "numcodecs        0.6.4              \n",
      "numpy            1.18.1             \n",
      "olefile          0.46               \n",
      "packaging        20.1               \n",
      "pandas           1.0.1              \n",
      "parso            0.6.1              \n",
      "partd            1.1.0              \n",
      "pexpect          4.8.0              \n",
      "pickleshare      0.7.5              \n",
      "Pillow           7.0.0              \n",
      "pip              20.0.2             \n",
      "prompt-toolkit   3.0.3              \n",
      "psutil           5.7.0              \n",
      "ptyprocess       0.6.0              \n",
      "Pygments         2.5.2              \n",
      "pyparsing        2.4.6              \n",
      "PyQt5            5.12.3             \n",
      "PyQt5-sip        4.19.18            \n",
      "PyQtWebEngine    5.12.1             \n",
      "python-dateutil  2.8.1              \n",
      "pytz             2019.3             \n",
      "PyYAML           5.3                \n",
      "pyzmq            19.0.0             \n",
      "scipy            1.4.1              \n",
      "setuptools       45.2.0.post20200209\n",
      "six              1.14.0             \n",
      "sortedcontainers 2.1.0              \n",
      "tblib            1.6.0              \n",
      "toolz            0.10.0             \n",
      "tornado          6.0.3              \n",
      "traitlets        4.3.3              \n",
      "wcwidth          0.1.8              \n",
      "wheel            0.34.2             \n",
      "zarr             2.4.0              \n",
      "zict             1.0.0              \n",
      "Note: you may need to restart the kernel to use updated packages.\n"
     ]
    }
   ],
   "source": [
    "%pip list"
   ]
  },
  {
   "cell_type": "code",
   "execution_count": 7,
   "metadata": {},
   "outputs": [
    {
     "name": "stdout",
     "output_type": "stream",
     "text": [
      "# This file may be used to create an environment using:\n",
      "# $ conda create --name <env> --file <this file>\n",
      "# platform: linux-64\n",
      "@EXPLICIT\n",
      "https://conda.anaconda.org/conda-forge/linux-64/_libgcc_mutex-0.1-conda_forge.tar.bz2\n",
      "https://conda.anaconda.org/conda-forge/linux-64/ca-certificates-2019.11.28-hecc5488_0.tar.bz2\n",
      "https://conda.anaconda.org/conda-forge/linux-64/ld_impl_linux-64-2.33.1-h53a641e_8.tar.bz2\n",
      "https://conda.anaconda.org/conda-forge/linux-64/libgfortran-ng-7.3.0-hdf63c60_5.tar.bz2\n",
      "https://conda.anaconda.org/conda-forge/linux-64/libstdcxx-ng-9.2.0-hdf63c60_2.tar.bz2\n",
      "https://conda.anaconda.org/conda-forge/linux-64/llvm-openmp-9.0.1-hc9558a2_2.tar.bz2\n",
      "https://conda.anaconda.org/conda-forge/linux-64/_openmp_mutex-4.5-1_llvm.tar.bz2\n",
      "https://conda.anaconda.org/conda-forge/linux-64/libgcc-ng-9.2.0-h24d8f2e_2.tar.bz2\n",
      "https://conda.anaconda.org/conda-forge/linux-64/expat-2.2.9-he1b5a44_2.tar.bz2\n",
      "https://conda.anaconda.org/conda-forge/linux-64/icu-64.2-he1b5a44_1.tar.bz2\n",
      "https://conda.anaconda.org/conda-forge/linux-64/jpeg-9c-h14c3975_1001.tar.bz2\n",
      "https://conda.anaconda.org/conda-forge/linux-64/libffi-3.2.1-he1b5a44_1006.tar.bz2\n",
      "https://conda.anaconda.org/conda-forge/linux-64/libiconv-1.15-h516909a_1005.tar.bz2\n",
      "https://conda.anaconda.org/conda-forge/linux-64/libllvm9-9.0.1-hc9558a2_0.tar.bz2\n",
      "https://conda.anaconda.org/conda-forge/linux-64/libopenblas-0.3.8-h5ec1e0e_0.tar.bz2\n",
      "https://conda.anaconda.org/conda-forge/linux-64/libsodium-1.0.17-h516909a_0.tar.bz2\n",
      "https://conda.anaconda.org/conda-forge/linux-64/libuuid-2.32.1-h14c3975_1000.tar.bz2\n",
      "https://conda.anaconda.org/conda-forge/linux-64/libxkbcommon-0.10.0-he1b5a44_0.tar.bz2\n",
      "https://conda.anaconda.org/conda-forge/linux-64/lz4-c-1.8.3-he1b5a44_1001.tar.bz2\n",
      "https://conda.anaconda.org/conda-forge/linux-64/ncurses-6.1-hf484d3e_1002.tar.bz2\n",
      "https://conda.anaconda.org/conda-forge/linux-64/nspr-4.25-he1b5a44_0.tar.bz2\n",
      "https://conda.anaconda.org/conda-forge/linux-64/openssl-1.1.1d-h516909a_0.tar.bz2\n",
      "https://conda.anaconda.org/conda-forge/linux-64/pcre-8.44-he1b5a44_0.tar.bz2\n",
      "https://conda.anaconda.org/conda-forge/linux-64/pthread-stubs-0.4-h14c3975_1001.tar.bz2\n",
      "https://conda.anaconda.org/conda-forge/linux-64/xorg-libxau-1.0.9-h14c3975_0.tar.bz2\n",
      "https://conda.anaconda.org/conda-forge/linux-64/xorg-libxdmcp-1.1.3-h516909a_0.tar.bz2\n",
      "https://conda.anaconda.org/conda-forge/linux-64/xz-5.2.4-h14c3975_1001.tar.bz2\n",
      "https://conda.anaconda.org/conda-forge/linux-64/yaml-0.2.2-h516909a_1.tar.bz2\n",
      "https://conda.anaconda.org/conda-forge/linux-64/zlib-1.2.11-h516909a_1006.tar.bz2\n",
      "https://conda.anaconda.org/conda-forge/linux-64/gettext-0.19.8.1-hc5be6a0_1002.tar.bz2\n",
      "https://conda.anaconda.org/conda-forge/linux-64/libblas-3.8.0-15_openblas.tar.bz2\n",
      "https://conda.anaconda.org/conda-forge/linux-64/libclang-9.0.1-default_hde54327_0.tar.bz2\n",
      "https://conda.anaconda.org/conda-forge/linux-64/libpng-1.6.37-hed695b0_0.tar.bz2\n",
      "https://conda.anaconda.org/conda-forge/linux-64/libxcb-1.13-h14c3975_1002.tar.bz2\n",
      "https://conda.anaconda.org/conda-forge/linux-64/libxml2-2.9.10-hee79883_0.tar.bz2\n",
      "https://conda.anaconda.org/conda-forge/linux-64/readline-8.0-hf8c457e_0.tar.bz2\n",
      "https://conda.anaconda.org/conda-forge/linux-64/tk-8.6.10-hed695b0_0.tar.bz2\n",
      "https://conda.anaconda.org/conda-forge/linux-64/zeromq-4.3.2-he1b5a44_2.tar.bz2\n",
      "https://conda.anaconda.org/conda-forge/linux-64/zstd-1.4.4-h3b9ef0a_1.tar.bz2\n",
      "https://conda.anaconda.org/conda-forge/linux-64/freetype-2.10.0-he983fc9_1.tar.bz2\n",
      "https://conda.anaconda.org/conda-forge/linux-64/libcblas-3.8.0-15_openblas.tar.bz2\n",
      "https://conda.anaconda.org/conda-forge/linux-64/liblapack-3.8.0-15_openblas.tar.bz2\n",
      "https://conda.anaconda.org/conda-forge/linux-64/libtiff-4.1.0-hc3755c2_3.tar.bz2\n",
      "https://conda.anaconda.org/conda-forge/linux-64/sqlite-3.30.1-hcee41ef_0.tar.bz2\n",
      "https://conda.anaconda.org/conda-forge/linux-64/fontconfig-2.13.1-h86ecdb6_1001.tar.bz2\n",
      "https://conda.anaconda.org/conda-forge/linux-64/nss-3.47-he751ad9_0.tar.bz2\n",
      "https://conda.anaconda.org/conda-forge/linux-64/python-3.7.6-h357f687_2.tar.bz2\n",
      "https://conda.anaconda.org/conda-forge/noarch/asciitree-0.3.3-py_2.tar.bz2\n",
      "https://conda.anaconda.org/conda-forge/noarch/backcall-0.1.0-py_0.tar.bz2\n",
      "https://conda.anaconda.org/conda-forge/linux-64/certifi-2019.11.28-py37_0.tar.bz2\n",
      "https://conda.anaconda.org/conda-forge/noarch/click-7.0-py_0.tar.bz2\n",
      "https://conda.anaconda.org/conda-forge/noarch/cloudpickle-1.3.0-py_0.tar.bz2\n",
      "https://conda.anaconda.org/conda-forge/noarch/dask-core-2.11.0-py_0.tar.bz2\n",
      "https://conda.anaconda.org/conda-forge/noarch/decorator-4.4.1-py_0.tar.bz2\n",
      "https://conda.anaconda.org/conda-forge/linux-64/entrypoints-0.3-py37_1000.tar.bz2\n",
      "https://conda.anaconda.org/conda-forge/noarch/fsspec-0.6.2-py_0.tar.bz2\n",
      "https://conda.anaconda.org/conda-forge/linux-64/glib-2.58.3-py37h6f030ca_1002.tar.bz2\n",
      "https://conda.anaconda.org/conda-forge/noarch/heapdict-1.0.1-py_0.tar.bz2\n",
      "https://conda.anaconda.org/conda-forge/noarch/ipython_genutils-0.2.0-py_1.tar.bz2\n",
      "https://conda.anaconda.org/conda-forge/linux-64/kiwisolver-1.1.0-py37hc9558a2_0.tar.bz2\n",
      "https://conda.anaconda.org/conda-forge/noarch/locket-0.2.0-py_2.tar.bz2\n",
      "https://conda.anaconda.org/conda-forge/linux-64/markupsafe-1.1.1-py37h516909a_0.tar.bz2\n",
      "https://conda.anaconda.org/conda-forge/noarch/monotonic-1.5-py_0.tar.bz2\n",
      "https://conda.anaconda.org/conda-forge/linux-64/msgpack-python-1.0.0-py37hc9558a2_0.tar.bz2\n",
      "https://conda.anaconda.org/conda-forge/linux-64/numpy-1.18.1-py37h95a1406_0.tar.bz2\n",
      "https://conda.anaconda.org/conda-forge/noarch/olefile-0.46-py_0.tar.bz2\n",
      "https://conda.anaconda.org/conda-forge/noarch/parso-0.6.1-py_0.tar.bz2\n",
      "https://conda.anaconda.org/conda-forge/linux-64/pickleshare-0.7.5-py37_1000.tar.bz2\n",
      "https://conda.anaconda.org/conda-forge/linux-64/psutil-5.7.0-py37h516909a_0.tar.bz2\n",
      "https://conda.anaconda.org/conda-forge/noarch/ptyprocess-0.6.0-py_1001.tar.bz2\n",
      "https://conda.anaconda.org/conda-forge/noarch/pyparsing-2.4.6-py_0.tar.bz2\n",
      "https://conda.anaconda.org/conda-forge/noarch/pytz-2019.3-py_0.tar.bz2\n",
      "https://conda.anaconda.org/conda-forge/linux-64/pyyaml-5.3-py37h516909a_0.tar.bz2\n",
      "https://conda.anaconda.org/conda-forge/linux-64/pyzmq-19.0.0-py37h1768529_0.tar.bz2\n",
      "https://conda.anaconda.org/conda-forge/linux-64/six-1.14.0-py37_0.tar.bz2\n",
      "https://conda.anaconda.org/conda-forge/noarch/sortedcontainers-2.1.0-py_0.tar.bz2\n",
      "https://conda.anaconda.org/conda-forge/noarch/tblib-1.6.0-py_0.tar.bz2\n",
      "https://conda.anaconda.org/conda-forge/noarch/toolz-0.10.0-py_0.tar.bz2\n",
      "https://conda.anaconda.org/conda-forge/linux-64/tornado-6.0.3-py37h516909a_4.tar.bz2\n",
      "https://conda.anaconda.org/conda-forge/noarch/wcwidth-0.1.8-py_0.tar.bz2\n",
      "https://conda.anaconda.org/conda-forge/noarch/cycler-0.10.0-py_2.tar.bz2\n",
      "https://conda.anaconda.org/conda-forge/linux-64/cytoolz-0.10.1-py37h516909a_0.tar.bz2\n",
      "https://conda.anaconda.org/conda-forge/linux-64/dbus-1.13.6-he372182_0.tar.bz2\n",
      "https://conda.anaconda.org/conda-forge/noarch/fasteners-0.14.1-py_3.tar.bz2\n",
      "https://conda.anaconda.org/conda-forge/linux-64/gstreamer-1.14.5-h36ae1b5_2.tar.bz2\n",
      "https://conda.anaconda.org/conda-forge/linux-64/jedi-0.16.0-py37_0.tar.bz2\n",
      "https://conda.anaconda.org/conda-forge/linux-64/numcodecs-0.6.4-py37he1b5a44_0.tar.bz2\n",
      "https://conda.anaconda.org/conda-forge/noarch/packaging-20.1-py_0.tar.bz2\n",
      "https://conda.anaconda.org/conda-forge/noarch/partd-1.1.0-py_0.tar.bz2\n",
      "https://conda.anaconda.org/conda-forge/linux-64/pexpect-4.8.0-py37_0.tar.bz2\n",
      "https://conda.anaconda.org/conda-forge/linux-64/pillow-7.0.0-py37hefe7db6_0.tar.bz2\n",
      "https://conda.anaconda.org/conda-forge/noarch/python-dateutil-2.8.1-py_0.tar.bz2\n",
      "https://conda.anaconda.org/conda-forge/linux-64/scipy-1.4.1-py37h921218d_0.tar.bz2\n",
      "https://conda.anaconda.org/conda-forge/linux-64/setuptools-45.2.0-py37_0.tar.bz2\n",
      "https://conda.anaconda.org/conda-forge/linux-64/traitlets-4.3.3-py37_0.tar.bz2\n",
      "https://conda.anaconda.org/conda-forge/noarch/zict-1.0.0-py_0.tar.bz2\n",
      "https://conda.anaconda.org/conda-forge/linux-64/distributed-2.11.0-py37_0.tar.bz2\n",
      "https://conda.anaconda.org/conda-forge/linux-64/gst-plugins-base-1.14.5-h0935bb2_2.tar.bz2\n",
      "https://conda.anaconda.org/conda-forge/noarch/jinja2-2.11.1-py_0.tar.bz2\n",
      "https://conda.anaconda.org/conda-forge/linux-64/jupyter_core-4.6.3-py37_0.tar.bz2\n",
      "https://conda.anaconda.org/conda-forge/linux-64/matplotlib-base-3.1.3-py37h250f245_0.tar.bz2\n",
      "https://conda.anaconda.org/conda-forge/linux-64/pandas-1.0.1-py37hb3f55d8_0.tar.bz2\n",
      "https://conda.anaconda.org/conda-forge/noarch/pygments-2.5.2-py_0.tar.bz2\n",
      "https://conda.anaconda.org/conda-forge/noarch/wheel-0.34.2-py_1.tar.bz2\n",
      "https://conda.anaconda.org/conda-forge/noarch/zarr-2.4.0-py_0.tar.bz2\n",
      "https://conda.anaconda.org/conda-forge/linux-64/bokeh-1.4.0-py37_0.tar.bz2\n",
      "https://conda.anaconda.org/conda-forge/noarch/dask-jobqueue-0.7.0-py_0.tar.bz2\n",
      "https://conda.anaconda.org/conda-forge/noarch/jupyter_client-6.0.0-py_0.tar.bz2\n",
      "https://conda.anaconda.org/conda-forge/noarch/pip-20.0.2-py_2.tar.bz2\n",
      "https://conda.anaconda.org/conda-forge/noarch/prompt_toolkit-3.0.3-py_0.tar.bz2\n",
      "https://conda.anaconda.org/conda-forge/linux-64/qt-5.12.5-hd8c4c69_1.tar.bz2\n",
      "https://conda.anaconda.org/conda-forge/noarch/dask-2.11.0-py_0.tar.bz2\n",
      "https://conda.anaconda.org/conda-forge/linux-64/ipython-7.12.0-py37h5ca1d4c_0.tar.bz2\n",
      "https://conda.anaconda.org/conda-forge/linux-64/pyqt-5.12.3-py37hcca6a23_1.tar.bz2\n",
      "https://conda.anaconda.org/conda-forge/linux-64/ipykernel-5.1.4-py37h5ca1d4c_0.tar.bz2\n",
      "https://conda.anaconda.org/conda-forge/linux-64/matplotlib-3.1.3-py37_0.tar.bz2\n",
      "\n",
      "Note: you may need to restart the kernel to use updated packages.\n"
     ]
    }
   ],
   "source": [
    "%conda list --explicit"
   ]
  }
 ],
 "metadata": {
  "anaconda-cloud": {},
  "kernelspec": {
   "display_name": "Python [conda env:python3_env]",
   "language": "python",
   "name": "conda-env-python3_env-py"
  },
  "language_info": {
   "codemirror_mode": {
    "name": "ipython",
    "version": 3
   },
   "file_extension": ".py",
   "mimetype": "text/x-python",
   "name": "python",
   "nbconvert_exporter": "python",
   "pygments_lexer": "ipython3",
   "version": "3.7.6"
  }
 },
 "nbformat": 4,
 "nbformat_minor": 4
}
