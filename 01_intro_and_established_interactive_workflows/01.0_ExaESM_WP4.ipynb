{
 "cells": [
  {
   "cell_type": "markdown",
   "metadata": {},
   "source": [
    "# The Pilot Lab ExaESM\n",
    "\n",
    "![ExaESM Logo](images/ExaESM-rgb-72dpi.png)\n",
    "\n",
    "## Project overview\n",
    "\n",
    "- Pilot Lab ExaESM contains 9 partners (FZJ, UFZ, KIT, DLR, AWI, HZG, GFZ, GEOMAR, and DKRZ)\n",
    "- Aim: Work towards scaling Earth System Models to Exascale\n",
    "  - Recosider workflows\n",
    "  - Modularize modeling concepts\n",
    "  - Support heterogeneous systems\n",
    "- Subprojects\n",
    "    - WP1: Separation of concerns in software development\n",
    "    - WP2: Asynchronous scheduling\n",
    "    - WP3: Hierarchical data architectures\n",
    "    - **WP4:** _Interactive analysis workflows_\n",
    "    - WP5: Machine Learning\n",
    "\n",
    "## PL ExaESM WP4: “Interactive large-scale analysis workflows\n",
    "\n",
    "- FZJ / JSC and GEOMAR / RD1-OD\n",
    "- Use-Case driven\n",
    "- Optimization of compute infrastructure for data analysis workflows\n",
    "- Accessibility: Jupyter on HPC\n",
    "- Usability: Work environments\n",
    "- Interactivity: Scheduling policies + Resilience"
   ]
  }
 ],
 "metadata": {
  "kernelspec": {
   "display_name": "Python 3",
   "language": "python",
   "name": "python3"
  },
  "language_info": {
   "codemirror_mode": {
    "name": "ipython",
    "version": 3
   },
   "file_extension": ".py",
   "mimetype": "text/x-python",
   "name": "python",
   "nbconvert_exporter": "python",
   "pygments_lexer": "ipython3",
   "version": "3.7.3"
  }
 },
 "nbformat": 4,
 "nbformat_minor": 4
}
